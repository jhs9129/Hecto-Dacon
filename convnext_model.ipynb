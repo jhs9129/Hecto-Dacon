{
 "cells": [
  {
   "cell_type": "code",
   "execution_count": null,
   "metadata": {},
   "outputs": [],
   "source": [
    "# 필요한 패키지 불러오기\n",
    "import os\n",
    "import torch\n",
    "from torch import nn, optim\n",
    "from torchvision import transforms, models\n",
    "from torchvision.datasets import ImageFolder\n",
    "from torch.utils.data import DataLoader, random_split\n",
    "from PIL import Image\n",
    "import pandas as pd\n",
    "import torch.nn.functional as F\n",
    "from tqdm import tqdm  # 학습 진행률 표시\n",
    "\n",
    "# GPU 사용 가능 여부 확인\n",
    "device = torch.device(\"cuda\" if torch.cuda.is_available() else \"cpu\")\n",
    "print(\"사용 중인 디바이스:\", device)"
   ]
  },
  {
   "cell_type": "markdown",
   "metadata": {},
   "source": [
    "## 1. 데이터 준비 및 전처리"
   ]
  },
  {
   "cell_type": "code",
   "execution_count": null,
   "metadata": {},
   "outputs": [],
   "source": [
    "# 이미지 전처리 정의 (ConvNeXt 권장 크기: 224x224)\n",
    "transform = transforms.Compose([\n",
    "    transforms.Resize((224, 224)),            # ConvNeXt 입력 사이즈로 맞춤\n",
    "    transforms.ToTensor(),                    # PIL -> 텐서 변환\n",
    "    transforms.Normalize([0.5]*3, [0.5]*3)    # RGB 정규화 (중앙:0, 범위: -1~1)\n",
    "])\n",
    "\n",
    "# 데이터 경로 설정\n",
    "data_dir = \"/home/ubuntu/Dacon/datasets/augmentated_data_4split\"\n",
    "test_dir = \"/home/ubuntu/Dacon/datasets/test\"\n",
    "\n",
    "# 데이터셋 로드\n",
    "dataset = ImageFolder(data_dir, transform=transform)\n",
    "\n",
    "# train:val - 8:2 비율로 분할\n",
    "train_size = int(0.8 * len(dataset))\n",
    "val_size = len(dataset) - train_size\n",
    "train_dataset, val_dataset = random_split(dataset, [train_size, val_size])\n",
    "\n",
    "# 배치 단위로 데이터 로딩\n",
    "train_loader = DataLoader(train_dataset, batch_size=32, shuffle=True)\n",
    "val_loader = DataLoader(val_dataset, batch_size=32, shuffle=False)\n",
    "\n",
    "# 클래스(라벨) 이름 확인\n",
    "class_names = dataset.classes\n",
    "num_classes = len(class_names)\n",
    "print(f\"클래스 목록: {class_names}\")\n",
    "print(f\"클래스 수: {num_classes}\")"
   ]
  },
  {
   "cell_type": "markdown",
   "metadata": {},
   "source": [
    "## 2. ConvNeXt Tiny 모델 정의"
   ]
  },
  {
   "cell_type": "code",
   "execution_count": null,
   "metadata": {},
   "outputs": [],
   "source": [
    "# ConvNeXt Tiny 모델 불러오기 (사전학습된 가중치 사용)\n",
    "model = models.convnext_tiny(pretrained=True)\n",
    "\n",
    "# 분류기 마지막 층을 클래스 수에 맞게 변경\n",
    "model.classifier[2] = nn.Linear(model.classifier[2].in_features, num_classes)\n",
    "\n",
    "# GPU로 모델 이동\n",
    "model = model.to(device)\n",
    "\n",
    "# 손실 함수: 다중 클래스 분류를 위한 Cross Entropy Loss\n",
    "criterion = nn.CrossEntropyLoss()\n",
    "\n",
    "# 옵티마이저: Adam (학습률 1e-4)\n",
    "optimizer = optim.Adam(model.parameters(), lr=1e-4)"
   ]
  },
  {
   "cell_type": "markdown",
   "metadata": {},
   "source": [
    "## 3. 모델 평가 함수"
   ]
  },
  {
   "cell_type": "code",
   "execution_count": null,
   "metadata": {},
   "outputs": [],
   "source": [
    "# 검증 함수 정의\n",
    "def evaluate(model, val_loader):\n",
    "    model.eval()  # 평가 모드 (Dropout, BatchNorm 등 비활성화)\n",
    "    correct = 0\n",
    "    val_loss = 0\n",
    "    \n",
    "    with torch.no_grad():  # 그래디언트 계산 비활성화\n",
    "        for images, labels in val_loader:\n",
    "            images, labels = images.to(device), labels.to(device)\n",
    "            outputs = model(images)\n",
    "            val_loss += criterion(outputs, labels).item()\n",
    "            correct += (outputs.argmax(1) == labels).sum().item()\n",
    "    \n",
    "    val_loss /= len(val_loader)\n",
    "    accuracy = correct / len(val_loader.dataset)\n",
    "    print(f\"검증 손실: {val_loss:.4f}, 정확도: {accuracy:.4f}\")\n",
    "    return accuracy"
   ]
  },
  {
   "cell_type": "markdown",
   "metadata": {},
   "source": [
    "## 4. 모델 학습"
   ]
  },
  {
   "cell_type": "code",
   "execution_count": null,
   "metadata": {},
   "outputs": [],
   "source": [
    "# 모델 학습 함수 정의\n",
    "def train_model(model, train_loader, val_loader, epochs=10):\n",
    "    best_acc = 0.0\n",
    "    best_model_path = \"jhs_convnext_best.pth\"  # 최고 성능 모델 저장 경로\n",
    "    \n",
    "    for epoch in range(epochs):\n",
    "        print(f\"\\n===== Epoch {epoch+1}/{epochs} =====\\n\")\n",
    "        model.train()  # 학습 모드 설정\n",
    "        train_loss = 0\n",
    "        train_correct = 0\n",
    "        \n",
    "        # 학습 루프\n",
    "        for images, labels in tqdm(train_loader, desc=f\"Epoch {epoch+1}\"):\n",
    "            images, labels = images.to(device), labels.to(device)\n",
    "            \n",
    "            optimizer.zero_grad()               # 그래디언트 초기화\n",
    "            outputs = model(images)             # 모델 예측\n",
    "            loss = criterion(outputs, labels)   # 손실 계산\n",
    "            loss.backward()                     # 역전파\n",
    "            optimizer.step()                    # 가중치 업데이트\n",
    "            \n",
    "            train_loss += loss.item()\n",
    "            train_correct += (outputs.argmax(1) == labels).sum().item()\n",
    "        \n",
    "        # 학습 손실 및 정확도 계산\n",
    "        train_loss /= len(train_loader)\n",
    "        train_acc = train_correct / len(train_loader.dataset)\n",
    "        print(f\"[{epoch+1}] 학습 손실: {train_loss:.4f}, 정확도: {train_acc:.4f}\")\n",
    "        \n",
    "        # 검증 데이터로 정확도 평가\n",
    "        val_acc = evaluate(model, val_loader)\n",
    "        \n",
    "        # 최고 성능 모델 저장\n",
    "        if val_acc > best_acc:\n",
    "            best_acc = val_acc\n",
    "            torch.save(model.state_dict(), best_model_path)\n",
    "            print(f\"새로운 최고 모델 저장! 검증 정확도: {best_acc:.4f}\")\n",
    "    \n",
    "    # 마지막 모델도 저장\n",
    "    torch.save(model.state_dict(), \"jhs_car_model_convnext.pth\")\n",
    "    print(f\"최종 모델 저장 완료\")\n",
    "    print(f\"최고 성능 모델 정확도: {best_acc:.4f} (경로: {best_model_path})\")\n",
    "    \n",
    "    # 최고 성능 모델 복원\n",
    "    model.load_state_dict(torch.load(best_model_path))\n",
    "    return model"
   ]
  },
  {
   "cell_type": "code",
   "execution_count": null,
   "metadata": {},
   "outputs": [],
   "source": [
    "# 모델 학습 실행 (10 에포크)\n",
    "model = train_model(model, train_loader, val_loader, epochs=10)"
   ]
  },
  {
   "cell_type": "markdown",
   "metadata": {},
   "source": [
    "## 5. 추론 및 제출 파일 생성"
   ]
  },
  {
   "cell_type": "code",
   "execution_count": null,
   "metadata": {},
   "outputs": [],
   "source": [
    "# 저장된 모델 불러오기\n",
    "model = models.convnext_tiny(pretrained=False)\n",
    "model.classifier[2] = nn.Linear(model.classifier[2].in_features, num_classes)\n",
    "model.load_state_dict(torch.load(\"jhs_car_model_convnext.pth\", map_location=device))\n",
    "model.to(device)\n",
    "model.eval()"
   ]
  },
  {
   "cell_type": "code",
   "execution_count": null,
   "metadata": {},
   "outputs": [],
   "source": [
    "# 제출용 파일 양식 불러오기\n",
    "submission_path = \"/home/ubuntu/Dacon/result/sample_submission.csv\"\n",
    "submission = pd.read_csv(submission_path, encoding='utf-8-sig')\n",
    "class_names = submission.columns[1:]  # 'ID' 제외한 클래스 컬럼명"
   ]
  },
  {
   "cell_type": "code",
   "execution_count": null,
   "metadata": {},
   "outputs": [],
   "source": [
    "# 테스트 이미지 목록 가져오기\n",
    "image_files = sorted([f for f in os.listdir(test_dir) if f.lower().endswith(('.jpg', '.jpeg', '.png'))])\n",
    "print(f\"테스트 이미지 수: {len(image_files)}개\")"
   ]
  },
  {
   "cell_type": "code",
   "execution_count": null,
   "metadata": {},
   "outputs": [],
   "source": [
    "# 추론 실행\n",
    "results = []\n",
    "\n",
    "with torch.no_grad():\n",
    "    for fname in tqdm(image_files, desc=\"테스트 이미지 예측 중\"):\n",
    "        image_path = os.path.join(test_dir, fname)\n",
    "        img = Image.open(image_path).convert(\"RGB\")\n",
    "        x = transform(img).unsqueeze(0).to(device)\n",
    "        \n",
    "        logits = model(x)\n",
    "        probs = F.softmax(logits, dim=1).squeeze().cpu().tolist()\n",
    "        \n",
    "        results.append([fname] + probs)"
   ]
  },
  {
   "cell_type": "code",
   "execution_count": null,
   "metadata": {},
   "outputs": [],
   "source": [
    "# 결과를 DataFrame으로 변환\n",
    "pred = pd.DataFrame(results, columns=[\"ID\"] + list(class_names))\n",
    "\n",
    "# 제출 파일 생성\n",
    "submission[class_names] = pred[class_names].values\n",
    "submission.to_csv(\"./jhs_convnext_submission.csv\", index=False, encoding='utf-8-sig')``"
   ]
  },
  {
   "cell_type": "code",
   "execution_count": null,
   "metadata": {},
   "outputs": [],
   "source": [
    "# 제출 파일 확인\n",
    "submission.head()"
   ]
  }
 ],
 "metadata": {
  "kernelspec": {
   "display_name": "Python 3",
   "language": "python",
   "name": "python3"
  },
  "language_info": {
   "codemirror_mode": {
    "name": "ipython",
    "version": 3
   },
   "file_extension": ".py",
   "mimetype": "text/x-python",
   "name": "python",
   "nbconvert_exporter": "python",
   "pygments_lexer": "ipython3",
   "version": "3.8.10"
  }
 },
 "nbformat": 4,
 "nbformat_minor": 4
}
